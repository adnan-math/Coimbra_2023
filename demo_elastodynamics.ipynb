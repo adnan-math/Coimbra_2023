{
  "nbformat": 4,
  "nbformat_minor": 0,
  "metadata": {
    "colab": {
      "provenance": [],
      "authorship_tag": "ABX9TyPq9ZzJOLA3ZTf0FsQaY0+f",
      "include_colab_link": true
    },
    "kernelspec": {
      "name": "python3",
      "display_name": "Python 3"
    },
    "language_info": {
      "name": "python"
    }
  },
  "cells": [
    {
      "cell_type": "markdown",
      "metadata": {
        "id": "view-in-github",
        "colab_type": "text"
      },
      "source": [
        "<a href=\"https://colab.research.google.com/github/johanhoffman/Coimbra_2023/blob/main/demo_elastodynamics.ipynb\" target=\"_parent\"><img src=\"https://colab.research.google.com/assets/colab-badge.svg\" alt=\"Open In Colab\"/></a>"
      ]
    },
    {
      "cell_type": "markdown",
      "source": [],
      "metadata": {
        "id": "oFfZADcZ6k8k"
      }
    },
    {
      "cell_type": "markdown",
      "source": [
        "Implementation and adaption of code from: https://fenicsproject.org/olddocs/dolfin/latest/python/demos/elastodynamics/demo_elastodynamics.py.html\n"
      ],
      "metadata": {
        "id": "vQ9pX-mq534V"
      }
    },
    {
      "cell_type": "markdown",
      "source": [
        "**Setup environment**"
      ],
      "metadata": {
        "id": "dJjXTlTm6fIX"
      }
    },
    {
      "cell_type": "code",
      "execution_count": null,
      "metadata": {
        "id": "9yOoJi6o53I1"
      },
      "outputs": [],
      "source": [
        "# Load neccessary modules.\n",
        "from google.colab import files\n",
        "\n",
        "import numpy as np\n",
        "import time\n",
        "\n",
        "# Install FEniCS (this may take a long time)\n",
        "try:\n",
        "    import dolfin\n",
        "except ImportError:\n",
        "    !wget \"https://fem-on-colab.github.io/releases/fenics-install.sh\" -O \"/tmp/fenics-install.sh\" && bash \"/tmp/fenics-install.sh\"\n",
        "    import dolfin\n",
        "    \n",
        "from dolfin import *; from mshr import *\n",
        "\n",
        "import dolfin.common.plotting as fenicsplot\n",
        "\n",
        "from matplotlib import pyplot as plt\n",
        "\n",
        "# Form compiler options\n",
        "parameters[\"form_compiler\"][\"cpp_optimize\"] = True\n",
        "parameters[\"form_compiler\"][\"optimize\"] = True\n"
      ]
    },
    {
      "cell_type": "markdown",
      "source": [
        "**Create domain and mesh**"
      ],
      "metadata": {
        "id": "lKYmjnY9647K"
      }
    },
    {
      "cell_type": "code",
      "source": [
        "# Define mesh\n",
        "mesh = BoxMesh(Point(0., 0., 0.), Point(1., 0.1, 0.04), 60, 10, 5)\n",
        "\n",
        "# Sub domain for clamp at left end\n",
        "def left(x, on_boundary):\n",
        "    return near(x[0], 0.) and on_boundary\n",
        "\n",
        "# Sub domain for rotation at right end\n",
        "def right(x, on_boundary):\n",
        "    return near(x[0], 1.) and on_boundary"
      ],
      "metadata": {
        "id": "cYWfjYK86753"
      },
      "execution_count": null,
      "outputs": []
    },
    {
      "cell_type": "markdown",
      "source": [
        "**Material model**"
      ],
      "metadata": {
        "id": "VpHsZMAJ6--J"
      }
    },
    {
      "cell_type": "code",
      "source": [
        "# Elastic parameters\n",
        "E  = 1000.0\n",
        "nu = 0.3\n",
        "mu    = Constant(E / (2.0*(1.0 + nu)))\n",
        "lmbda = Constant(E*nu / ((1.0 + nu)*(1.0 - 2.0*nu)))\n",
        "\n",
        "# Mass density\n",
        "rho = Constant(1.0)\n",
        "\n",
        "# Rayleigh damping coefficients\n",
        "eta_m = Constant(0.)\n",
        "eta_k = Constant(0.)"
      ],
      "metadata": {
        "id": "nyHpXGkz7CMK"
      },
      "execution_count": null,
      "outputs": []
    },
    {
      "cell_type": "markdown",
      "source": [
        "**Time discretization**"
      ],
      "metadata": {
        "id": "PfAZPmRu7FJB"
      }
    },
    {
      "cell_type": "code",
      "source": [
        "# Generalized-alpha method parameters\n",
        "alpha_m = Constant(0.2)\n",
        "alpha_f = Constant(0.4)\n",
        "gamma   = Constant(0.5+alpha_f-alpha_m)\n",
        "beta    = Constant((gamma+0.5)**2/4.)\n",
        "\n",
        "# Time-stepping parameters\n",
        "T       = 4.0\n",
        "Nsteps  = 50\n",
        "dt = Constant(T/Nsteps)"
      ],
      "metadata": {
        "id": "QSOzTgpv7KDi"
      },
      "execution_count": null,
      "outputs": []
    },
    {
      "cell_type": "markdown",
      "source": [
        "**Loading**"
      ],
      "metadata": {
        "id": "msrfVeRv7T7S"
      }
    },
    {
      "cell_type": "code",
      "source": [
        "p0 = 1.\n",
        "cutoff_Tc = T/5\n",
        "# Define the loading as an expression depending on t\n",
        "p = Expression((\"0\", \"t <= tc ? p0*t/tc : 0\", \"0\"), t=0, tc=cutoff_Tc, p0=p0, degree=0)"
      ],
      "metadata": {
        "id": "hUQR3lUH7R8-"
      },
      "execution_count": null,
      "outputs": []
    },
    {
      "cell_type": "markdown",
      "source": [
        "**Finite element approximation spaces**"
      ],
      "metadata": {
        "id": "m61bzPZM7LRm"
      }
    },
    {
      "cell_type": "code",
      "source": [
        "# Define function space for displacement, velocity and acceleration\n",
        "V = VectorFunctionSpace(mesh, \"CG\", 1)\n",
        "# Define function space for stresses\n",
        "Vsig = TensorFunctionSpace(mesh, \"DG\", 0)"
      ],
      "metadata": {
        "id": "XRlUgwvu7hHW"
      },
      "execution_count": null,
      "outputs": []
    },
    {
      "cell_type": "markdown",
      "source": [
        "**Test and trial functions**"
      ],
      "metadata": {
        "id": "BQK5JGBo7slu"
      }
    },
    {
      "cell_type": "code",
      "source": [
        "# Test and trial functions\n",
        "du = TrialFunction(V)\n",
        "u_ = TestFunction(V)\n",
        "# Current (unknown) displacement\n",
        "u = Function(V, name=\"Displacement\")\n",
        "# Fields from previous time step (displacement, velocity, acceleration)\n",
        "u_old = Function(V)\n",
        "v_old = Function(V)\n",
        "a_old = Function(V)"
      ],
      "metadata": {
        "id": "_oA9TYE-7v1P"
      },
      "execution_count": null,
      "outputs": []
    },
    {
      "cell_type": "markdown",
      "source": [
        "**Boundary conditions**"
      ],
      "metadata": {
        "id": "cgrnNB1g721q"
      }
    },
    {
      "cell_type": "code",
      "source": [
        "# Create mesh function over the cell facets\n",
        "boundary_subdomains = MeshFunction(\"size_t\", mesh, mesh.topology().dim() - 1)\n",
        "boundary_subdomains.set_all(0)\n",
        "force_boundary = AutoSubDomain(right)\n",
        "force_boundary.mark(boundary_subdomains, 3)\n",
        "\n",
        "# Define measure for boundary condition integral\n",
        "dss = ds(subdomain_data=boundary_subdomains)\n",
        "\n",
        "# Set up boundary condition at left end\n",
        "zero = Constant((0.0, 0.0, 0.0))\n",
        "bc = DirichletBC(V, zero, left)"
      ],
      "metadata": {
        "id": "BFgP4DFL76Fx"
      },
      "execution_count": null,
      "outputs": []
    },
    {
      "cell_type": "markdown",
      "source": [
        "**FEM variational form**"
      ],
      "metadata": {
        "id": "HC1XBZP57_3B"
      }
    },
    {
      "cell_type": "code",
      "source": [
        "# Stress tensor\n",
        "def sigma(r):\n",
        "    return 2.0*mu*sym(grad(r)) + lmbda*tr(sym(grad(r)))*Identity(len(r))\n",
        "\n",
        "# Mass form\n",
        "def m(u, u_):\n",
        "    return rho*inner(u, u_)*dx\n",
        "\n",
        "# Elastic stiffness form\n",
        "def k(u, u_):\n",
        "    return inner(sigma(u), sym(grad(u_)))*dx\n",
        "\n",
        "# Rayleigh damping form\n",
        "def c(u, u_):\n",
        "    return eta_m*m(u, u_) + eta_k*k(u, u_)\n",
        "\n",
        "# Work of external forces\n",
        "def Wext(u_):\n",
        "    return dot(u_, p)*dss(3)"
      ],
      "metadata": {
        "id": "47ZRLAiA8CsS"
      },
      "execution_count": null,
      "outputs": []
    },
    {
      "cell_type": "markdown",
      "source": [
        "**Time stepping**"
      ],
      "metadata": {
        "id": "6fMndbEM8G4i"
      }
    },
    {
      "cell_type": "code",
      "source": [
        "# Update formula for acceleration\n",
        "# a = 1/(2*beta)*((u - u0 - v0*dt)/(0.5*dt*dt) - (1-2*beta)*a0)\n",
        "def update_a(u, u_old, v_old, a_old, ufl=True):\n",
        "    if ufl:\n",
        "        dt_ = dt\n",
        "        beta_ = beta\n",
        "    else:\n",
        "        dt_ = float(dt)\n",
        "        beta_ = float(beta)\n",
        "    return (u-u_old-dt_*v_old)/beta_/dt_**2 - (1-2*beta_)/2/beta_*a_old\n",
        "\n",
        "# Update formula for velocity\n",
        "# v = dt * ((1-gamma)*a0 + gamma*a) + v0\n",
        "def update_v(a, u_old, v_old, a_old, ufl=True):\n",
        "    if ufl:\n",
        "        dt_ = dt\n",
        "        gamma_ = gamma\n",
        "    else:\n",
        "        dt_ = float(dt)\n",
        "        gamma_ = float(gamma)\n",
        "    return v_old + dt_*((1-gamma_)*a_old + gamma_*a)\n",
        "\n",
        "def update_fields(u, u_old, v_old, a_old):\n",
        "    \"\"\"Update fields at the end of each time step.\"\"\"\n",
        "\n",
        "    # Get vectors (references)\n",
        "    u_vec, u0_vec  = u.vector(), u_old.vector()\n",
        "    v0_vec, a0_vec = v_old.vector(), a_old.vector()\n",
        "\n",
        "    # use update functions using vector arguments\n",
        "    a_vec = update_a(u_vec, u0_vec, v0_vec, a0_vec, ufl=False)\n",
        "    v_vec = update_v(a_vec, u0_vec, v0_vec, a0_vec, ufl=False)\n",
        "\n",
        "    # Update (u_old <- u)\n",
        "    v_old.vector()[:], a_old.vector()[:] = v_vec, a_vec\n",
        "    u_old.vector()[:] = u.vector()"
      ],
      "metadata": {
        "id": "XcQBEcut8IzJ"
      },
      "execution_count": null,
      "outputs": []
    },
    {
      "cell_type": "code",
      "source": [
        "def avg(x_old, x_new, alpha):\n",
        "    return alpha*x_old + (1-alpha)*x_new\n",
        "\n",
        "# Residual\n",
        "a_new = update_a(du, u_old, v_old, a_old, ufl=True)\n",
        "v_new = update_v(a_new, u_old, v_old, a_old, ufl=True)\n",
        "res = m(avg(a_old, a_new, alpha_m), u_) + c(avg(v_old, v_new, alpha_f), u_) \\\n",
        "       + k(avg(u_old, du, alpha_f), u_) - Wext(u_)\n",
        "a_form = lhs(res)\n",
        "L_form = rhs(res)"
      ],
      "metadata": {
        "id": "FjfHUgil8Q1s"
      },
      "execution_count": null,
      "outputs": []
    },
    {
      "cell_type": "code",
      "source": [
        "# Define solver for reusing factorization\n",
        "K, res = assemble_system(a_form, L_form, bc)\n",
        "solver = LUSolver(K, \"mumps\")\n",
        "solver.parameters[\"symmetric\"] = True"
      ],
      "metadata": {
        "id": "wT4Bvbf78Utp"
      },
      "execution_count": null,
      "outputs": []
    },
    {
      "cell_type": "code",
      "source": [
        "# Time-stepping\n",
        "time = np.linspace(0, T, Nsteps+1)\n",
        "u_tip = np.zeros((Nsteps+1,))\n",
        "energies = np.zeros((Nsteps+1, 4))\n",
        "E_damp = 0\n",
        "E_ext = 0\n",
        "sig = Function(Vsig, name=\"sigma\")\n",
        "xdmf_file = XDMFFile(\"elastodynamics-results.xdmf\")\n",
        "xdmf_file.parameters[\"flush_output\"] = True\n",
        "xdmf_file.parameters[\"functions_share_mesh\"] = True\n",
        "xdmf_file.parameters[\"rewrite_function_mesh\"] = False"
      ],
      "metadata": {
        "id": "0iXL1BFc8bJp"
      },
      "execution_count": null,
      "outputs": []
    },
    {
      "cell_type": "code",
      "source": [
        "def local_project(v, V, u=None):\n",
        "    \"\"\"Element-wise projection using LocalSolver\"\"\"\n",
        "    dv = TrialFunction(V)\n",
        "    v_ = TestFunction(V)\n",
        "    a_proj = inner(dv, v_)*dx\n",
        "    b_proj = inner(v, v_)*dx\n",
        "    solver = LocalSolver(a_proj, b_proj)\n",
        "    solver.factorize()\n",
        "    if u is None:\n",
        "        u = Function(V)\n",
        "        solver.solve_local_rhs(u)\n",
        "        return u\n",
        "    else:\n",
        "        solver.solve_local_rhs(u)\n",
        "        return\n",
        "\n",
        "for (i, dt) in enumerate(np.diff(time)):\n",
        "\n",
        "    t = time[i+1]\n",
        "    print(\"Time: \", t)\n",
        "\n",
        "    # Forces are evaluated at t_{n+1-alpha_f}=t_{n+1}-alpha_f*dt\n",
        "    p.t = t-float(alpha_f*dt)\n",
        "\n",
        "    # Solve for new displacement\n",
        "    res = assemble(L_form)\n",
        "    bc.apply(res)\n",
        "    solver.solve(K, u.vector(), res)\n",
        "\n",
        "\n",
        "    # Update old fields with new quantities\n",
        "    update_fields(u, u_old, v_old, a_old)\n",
        "\n",
        "    # Save solution to XDMF format\n",
        "    xdmf_file.write(u, t)\n",
        "\n",
        "    # Compute stresses and save to file\n",
        "    local_project(sigma(u), Vsig, sig)\n",
        "    xdmf_file.write(sig, t)\n",
        "\n",
        "    p.t = t\n",
        "    # Record tip displacement and compute energies\n",
        "    # Note: Only works in serial\n",
        "    if MPI.comm_world.size == 1:\n",
        "        u_tip[i+1] = u(1., 0.05, 0.)[1]\n",
        "    E_elas = assemble(0.5*k(u_old, u_old))\n",
        "    E_kin = assemble(0.5*m(v_old, v_old))\n",
        "    E_damp += dt*assemble(c(v_old, v_old))\n",
        "    # E_ext += assemble(Wext(u-u_old))\n",
        "    E_tot = E_elas+E_kin+E_damp #-E_ext\n",
        "    energies[i+1, :] = np.array([E_elas, E_kin, E_damp, E_tot])"
      ],
      "metadata": {
        "colab": {
          "base_uri": "https://localhost:8080/"
        },
        "id": "auZcOxox8gi_",
        "outputId": "fc7fdb7e-0dd8-4186-a4d1-1c5a4f62eee6"
      },
      "execution_count": null,
      "outputs": [
        {
          "output_type": "stream",
          "name": "stdout",
          "text": [
            "Time:  0.08\n",
            "Time:  0.16\n",
            "Time:  0.24\n",
            "Time:  0.32\n",
            "Time:  0.4\n",
            "Time:  0.48\n",
            "Time:  0.56\n",
            "Time:  0.64\n",
            "Time:  0.72\n",
            "Time:  0.8\n",
            "Time:  0.88\n",
            "Time:  0.96\n",
            "Time:  1.04\n",
            "Time:  1.12\n",
            "Time:  1.2\n",
            "Time:  1.28\n",
            "Time:  1.36\n",
            "Time:  1.44\n",
            "Time:  1.52\n",
            "Time:  1.6\n",
            "Time:  1.68\n",
            "Time:  1.76\n",
            "Time:  1.84\n",
            "Time:  1.92\n",
            "Time:  2.0\n",
            "Time:  2.08\n",
            "Time:  2.16\n",
            "Time:  2.24\n",
            "Time:  2.32\n",
            "Time:  2.4\n",
            "Time:  2.48\n",
            "Time:  2.56\n",
            "Time:  2.64\n",
            "Time:  2.72\n",
            "Time:  2.8000000000000003\n",
            "Time:  2.88\n",
            "Time:  2.96\n",
            "Time:  3.04\n",
            "Time:  3.12\n",
            "Time:  3.2\n",
            "Time:  3.2800000000000002\n",
            "Time:  3.36\n",
            "Time:  3.44\n",
            "Time:  3.52\n",
            "Time:  3.6\n",
            "Time:  3.68\n",
            "Time:  3.7600000000000002\n",
            "Time:  3.84\n",
            "Time:  3.92\n",
            "Time:  4.0\n"
          ]
        }
      ]
    },
    {
      "cell_type": "markdown",
      "source": [
        "**Plot results**"
      ],
      "metadata": {
        "id": "bOy_PDQb8nxt"
      }
    },
    {
      "cell_type": "code",
      "source": [
        "if MPI.comm_world.size == 1:\n",
        "    # Plot tip displacement evolution\n",
        "    plt.figure()\n",
        "    plt.plot(time, u_tip)\n",
        "    plt.xlabel(\"Time\")\n",
        "    plt.ylabel(\"Tip displacement\")\n",
        "    plt.ylim(-0.5, 0.5)\n",
        "    plt.show()\n",
        "\n",
        "if (MPI.comm_world.rank == 0):\n",
        "    # Plot energies evolution\n",
        "    plt.figure()\n",
        "    plt.plot(time, energies)\n",
        "    plt.legend((\"elastic\", \"kinetic\", \"damping\", \"total\"))\n",
        "    plt.xlabel(\"Time\")\n",
        "    plt.ylabel(\"Energies\")\n",
        "    plt.ylim(0, 0.0011)\n",
        "    plt.show()"
      ],
      "metadata": {
        "colab": {
          "base_uri": "https://localhost:8080/",
          "height": 881
        },
        "id": "x_B2Xkrb8m9m",
        "outputId": "6eea1f7c-a3d4-47e1-c487-93b54de5a8cf"
      },
      "execution_count": null,
      "outputs": [
        {
          "output_type": "display_data",
          "data": {
            "text/plain": [
              "<Figure size 640x480 with 1 Axes>"
            ],
            "image/png": "[encoded data removed]"
          },
          "metadata": {}
        },
        {
          "output_type": "display_data",
          "data": {
            "text/plain": [
              "<Figure size 640x480 with 1 Axes>"
            ],
            "image/png": "[encoded data removed]"
          },
          "metadata": {}
        }
      ]
    },
    {
      "cell_type": "markdown",
      "source": [],
      "metadata": {
        "id": "ODII63pR7yoH"
      }
    }
  ]
}